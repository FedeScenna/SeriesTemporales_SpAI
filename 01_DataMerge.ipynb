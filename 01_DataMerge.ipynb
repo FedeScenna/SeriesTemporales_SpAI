{
 "cells": [
  {
   "cell_type": "code",
   "execution_count": 100,
   "metadata": {},
   "outputs": [],
   "source": [
    "import pandas as pd\n",
    "import os"
   ]
  },
  {
   "cell_type": "markdown",
   "metadata": {},
   "source": [
    "### Candles"
   ]
  },
  {
   "cell_type": "code",
   "execution_count": 101,
   "metadata": {},
   "outputs": [],
   "source": [
    "path = os.getcwd() + \"/data/TrainCandles\"\n",
    "files_candles = [f for f in os.listdir(path) if os.path.isfile(os.path.join(path, f))]"
   ]
  },
  {
   "cell_type": "code",
   "execution_count": 102,
   "metadata": {},
   "outputs": [],
   "source": [
    "candles = pd.DataFrame()"
   ]
  },
  {
   "cell_type": "code",
   "execution_count": 103,
   "metadata": {},
   "outputs": [],
   "source": [
    "for f in files_candles: \n",
    "    ticker = f[26:29]\n",
    "    data = pd.read_csv(path + \"/\" + f)\n",
    "    data[\"ticker\"] = ticker\n",
    "    candles = candles.append(data)\n",
    "\n",
    "candles = candles.rename(columns = {\"Unnamed: 0\": \"timestamp\"})"
   ]
  },
  {
   "cell_type": "code",
   "execution_count": 104,
   "metadata": {},
   "outputs": [
    {
     "data": {
      "text/html": [
       "<div>\n",
       "<style scoped>\n",
       "    .dataframe tbody tr th:only-of-type {\n",
       "        vertical-align: middle;\n",
       "    }\n",
       "\n",
       "    .dataframe tbody tr th {\n",
       "        vertical-align: top;\n",
       "    }\n",
       "\n",
       "    .dataframe thead th {\n",
       "        text-align: right;\n",
       "    }\n",
       "</style>\n",
       "<table border=\"1\" class=\"dataframe\">\n",
       "  <thead>\n",
       "    <tr style=\"text-align: right;\">\n",
       "      <th></th>\n",
       "      <th>timestamp</th>\n",
       "      <th>close</th>\n",
       "      <th>max</th>\n",
       "      <th>min</th>\n",
       "      <th>open</th>\n",
       "      <th>ticker</th>\n",
       "    </tr>\n",
       "  </thead>\n",
       "  <tbody>\n",
       "    <tr>\n",
       "      <th>0</th>\n",
       "      <td>2018-12-19 19:00:00</td>\n",
       "      <td>116.14</td>\n",
       "      <td>116.51</td>\n",
       "      <td>114.01</td>\n",
       "      <td>115.12</td>\n",
       "      <td>BAX</td>\n",
       "    </tr>\n",
       "    <tr>\n",
       "      <th>1</th>\n",
       "      <td>2018-12-19 20:00:00</td>\n",
       "      <td>115.82</td>\n",
       "      <td>116.57</td>\n",
       "      <td>115.18</td>\n",
       "      <td>116.13</td>\n",
       "      <td>BAX</td>\n",
       "    </tr>\n",
       "    <tr>\n",
       "      <th>2</th>\n",
       "      <td>2018-12-19 21:00:00</td>\n",
       "      <td>115.35</td>\n",
       "      <td>115.99</td>\n",
       "      <td>115.23</td>\n",
       "      <td>115.82</td>\n",
       "      <td>BAX</td>\n",
       "    </tr>\n",
       "    <tr>\n",
       "      <th>3</th>\n",
       "      <td>2018-12-19 22:00:00</td>\n",
       "      <td>115.40</td>\n",
       "      <td>115.47</td>\n",
       "      <td>115.34</td>\n",
       "      <td>115.38</td>\n",
       "      <td>BAX</td>\n",
       "    </tr>\n",
       "    <tr>\n",
       "      <th>4</th>\n",
       "      <td>2018-12-19 23:00:00</td>\n",
       "      <td>115.33</td>\n",
       "      <td>115.40</td>\n",
       "      <td>115.33</td>\n",
       "      <td>115.40</td>\n",
       "      <td>BAX</td>\n",
       "    </tr>\n",
       "  </tbody>\n",
       "</table>\n",
       "</div>"
      ],
      "text/plain": [
       "             timestamp   close     max     min    open ticker\n",
       "0  2018-12-19 19:00:00  116.14  116.51  114.01  115.12    BAX\n",
       "1  2018-12-19 20:00:00  115.82  116.57  115.18  116.13    BAX\n",
       "2  2018-12-19 21:00:00  115.35  115.99  115.23  115.82    BAX\n",
       "3  2018-12-19 22:00:00  115.40  115.47  115.34  115.38    BAX\n",
       "4  2018-12-19 23:00:00  115.33  115.40  115.33  115.40    BAX"
      ]
     },
     "execution_count": 104,
     "metadata": {},
     "output_type": "execute_result"
    }
   ],
   "source": [
    "candles.head()"
   ]
  },
  {
   "cell_type": "markdown",
   "metadata": {},
   "source": [
    "### Scores"
   ]
  },
  {
   "cell_type": "code",
   "execution_count": 105,
   "metadata": {},
   "outputs": [],
   "source": [
    "path = os.getcwd() + \"/data/TrainScores\"\n",
    "files_scores = [f for f in os.listdir(path) if os.path.isfile(os.path.join(path, f))]\n",
    "scores = pd.DataFrame()"
   ]
  },
  {
   "cell_type": "code",
   "execution_count": 106,
   "metadata": {},
   "outputs": [],
   "source": [
    "for f in files_scores: \n",
    "    ticker = f[11:14]\n",
    "    data = pd.read_csv(path + \"/\" + f)\n",
    "    data[\"ticker\"] = ticker\n",
    "    scores = scores.append(data)"
   ]
  },
  {
   "cell_type": "markdown",
   "metadata": {},
   "source": [
    "Output files"
   ]
  },
  {
   "cell_type": "code",
   "execution_count": 107,
   "metadata": {},
   "outputs": [],
   "source": [
    "scores.to_csv(\"scores.csv\", index = False)\n",
    "candles.to_csv(\"candles.csv\", index = False)"
   ]
  }
 ],
 "metadata": {
  "kernelspec": {
   "display_name": "Python 3",
   "language": "python",
   "name": "python3"
  },
  "language_info": {
   "codemirror_mode": {
    "name": "ipython",
    "version": 3
   },
   "file_extension": ".py",
   "mimetype": "text/x-python",
   "name": "python",
   "nbconvert_exporter": "python",
   "pygments_lexer": "ipython3",
   "version": "3.8.5"
  }
 },
 "nbformat": 4,
 "nbformat_minor": 4
}
